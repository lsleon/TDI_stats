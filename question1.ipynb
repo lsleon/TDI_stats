{
 "cells": [
  {
   "cell_type": "markdown",
   "metadata": {},
   "source": [
    "# Concept 1: Hypothesis Testing"
   ]
  },
  {
   "cell_type": "markdown",
   "metadata": {},
   "source": [
    "To explain this topic, first consider an example for illustration. "
   ]
  },
  {
   "cell_type": "markdown",
   "metadata": {},
   "source": [
    "## Example\n",
    "Suppose a company manufactures sensors which go through several mechanical and temperature loads to satisfy many environmental conditions upon use in industry. The company manufactures thousands of these sensors, and wishes to improve the mean lifetime (in days) of the sensors. Using a nondestructive evaluation method, it tests a new procedure for manufacturing the sensors to improve their lifetime. "
   ]
  },
  {
   "cell_type": "markdown",
   "metadata": {},
   "source": [
    "Let $\\mu$ be the mean lifetime of the sensors. Suppose the nondestructive method identifies $\\mu_0 = 1000$ days as the current lifetime."
   ]
  },
  {
   "cell_type": "markdown",
   "metadata": {},
   "source": [
    "To confirm if the new manufacturing process delivers a better lifetime, we test a __null hypothesis__ against an __alternate hypothesis__."
   ]
  },
  {
   "cell_type": "markdown",
   "metadata": {},
   "source": [
    "### Null Hypothesis"
   ]
  },
  {
   "cell_type": "markdown",
   "metadata": {},
   "source": [
    "We could think of this as the _no change hypothesis_. We denote this hypothesis by $H_0$ and for this example we define:"
   ]
  },
  {
   "cell_type": "markdown",
   "metadata": {},
   "source": [
    "$H_0$: The mean sensor lifetime remains $\\mu = \\mu_0$ days."
   ]
  },
  {
   "cell_type": "markdown",
   "metadata": {},
   "source": [
    "### Alternate Hypothesis"
   ]
  },
  {
   "cell_type": "markdown",
   "metadata": {},
   "source": [
    "This is the hypothesis the statistician tests for. We denote this as the alternative hypothesis $H_a$ and define:"
   ]
  },
  {
   "cell_type": "markdown",
   "metadata": {},
   "source": [
    "$H_a$: The new sensor lifetime is $\\mu > \\mu_0$."
   ]
  },
  {
   "cell_type": "markdown",
   "metadata": {},
   "source": [
    "### _p_-value and t-test"
   ]
  },
  {
   "cell_type": "markdown",
   "metadata": {},
   "source": [
    "We assume that the underlying distribution for the sensor lifetime is normal with __unknown mean__ $\\mu$, and __unknown variance__ $\\sigma^2$. Suppose $\\bar{X}$ is the sample mean for testing. We then define the closeness of the _observed_ sample mean $\\bar{x}$ to $\\mu_0$ in terms of the standard error of the mean ${{\\sigma}/{\\sqrt{n}}}$. If $S/\\sqrt{n}$ is an __unbiased estimator__ for $\\sigma/\\sqrt{n}$, this yields the ___t_-test statistic__"
   ]
  },
  {
   "cell_type": "markdown",
   "metadata": {},
   "source": [
    "$$\n",
    "    \\large{T = \\frac{\\bar{X} - \\mu_0}{S/\\sqrt{n}}}.\n",
    "$$"
   ]
  },
  {
   "cell_type": "markdown",
   "metadata": {},
   "source": [
    "We then define the ___p_-value__ as the probability, under the null hypothesis, of the test statistic $T$ exceeding the observed value $t$."
   ]
  },
  {
   "cell_type": "markdown",
   "metadata": {},
   "source": [
    "Suppose the testing method yields a mean $\\bar{x} = 1008.2$ based on $n = 50$ observations, with a sample standard deviation $s = 30$. Then the _p_-value, or probability of observing $T\\geq t$ is "
   ]
  },
  {
   "cell_type": "markdown",
   "metadata": {},
   "source": [
    "$$\n",
    "    \\begin{align}\n",
    "        \\begin{aligned}\n",
    "             p & = P(T \\geq t) \\\\\n",
    "               & = P(\\bar{X} \\geq 1008.2 ; \\mu_0 = 1000) \\\\\n",
    "               & = P\\left(\\frac{\\bar{X}-1000}{30/\\sqrt{50}}\\geq \\frac{1008.2-1000}{30/\\sqrt{50}};\\mu_0=1000\\right) \\\\\n",
    "               & = 1 - F\\left(\\frac{1008.2-1000}{30/\\sqrt{50}}\\right) = 1 - F\\left(\\frac{8.2}{30}\\sqrt{50}\\right) = 1 - F(1.933) \\approx 0.0266.\n",
    "        \\end{aligned}\n",
    "        \\nonumber\n",
    "    \\end{align}\n",
    "$$"
   ]
  },
  {
   "cell_type": "code",
   "execution_count": 16,
   "metadata": {},
   "outputs": [
    {
     "name": "stdout",
     "output_type": "stream",
     "text": [
      "1.93275853524323\n",
      "0.026632975268\n"
     ]
    }
   ],
   "source": [
    "from math import sqrt\n",
    "from scipy.stats import norm\n",
    "t = (8.2/30)*sqrt(50)\n",
    "f_val = 1 - norm.cdf(t)\n",
    "print(t)\n",
    "print(f_val)"
   ]
  },
  {
   "cell_type": "markdown",
   "metadata": {},
   "source": [
    "where $F(x)$ is the standard cumulative distribution function (CDF)."
   ]
  },
  {
   "cell_type": "markdown",
   "metadata": {},
   "source": [
    "We could choose a significance level $\\alpha$ and use the t-tables with $r = n-1 = 49$ degrees of freedom to reject or not reject the null hypothesis based on the value of $t_{\\alpha}(49)$. Depending on the value of $\\alpha$, we determine whether or not the new manufacturing process improves the lifetime of the sensors."
   ]
  },
  {
   "cell_type": "markdown",
   "metadata": {},
   "source": [
    "### Precision and Recall"
   ]
  },
  {
   "cell_type": "markdown",
   "metadata": {},
   "source": [
    "Suppose that the current lifetime testing method incorrectly determines the lifetime of some sensors to be greater than $\\mu_0$. This could lead to __Type I error__ where we reject $H_0$ and accept $H_a$, when $H_0$ is true. This error is associated with the testing __precision__ of the method."
   ]
  },
  {
   "cell_type": "markdown",
   "metadata": {},
   "source": [
    "__Precision__: If the probability of committing type I errors is small, we say the testing method has high precision."
   ]
  },
  {
   "cell_type": "markdown",
   "metadata": {},
   "source": [
    "Suppose that the current lifetime testing method incorrectly determines the lifetime of some sensors to be very close to $\\mu_0$. This could lead to __Type II errors__ where we fail to reject $H_0$ when $H_a$ is true. This error is associated with the testing __recall__ of the method. "
   ]
  },
  {
   "cell_type": "markdown",
   "metadata": {},
   "source": [
    "__Recall__: If the probability of committing type II errors is small, we say the testing method has high recall."
   ]
  },
  {
   "cell_type": "markdown",
   "metadata": {},
   "source": [
    "Suppose the threshold for determining an improvement on the lifetime of the sensors based on the sample mean is $\\bar{X}\\geq 1005$. Then the probability of committing a type I error is "
   ]
  },
  {
   "cell_type": "markdown",
   "metadata": {},
   "source": [
    "$$\n",
    "    \\begin{align}\n",
    "        \\begin{aligned}\n",
    "            \\alpha &= P(\\bar{X} \\geq 1005 ; H_0) \\\\\n",
    "                &= P\\left(\\frac{\\bar{X}-\\mu_0}{\\sigma/\\sqrt{n}} \\geq \\frac{1005-1000}{\\sigma/\\sqrt{n}}; H_0\\right)\n",
    "        \\end{aligned}\n",
    "        \\nonumber\n",
    "    \\end{align}\n",
    "$$"
   ]
  },
  {
   "cell_type": "markdown",
   "metadata": {},
   "source": [
    "Suppose we take $H_a$: The new mean lifetime is $\\mu = 1008.2$. The probability of committing a type II error if we accept $1008.2$ as an improvement is"
   ]
  },
  {
   "cell_type": "markdown",
   "metadata": {},
   "source": [
    "$$\n",
    "    \\begin{align}\n",
    "        \\begin{aligned}\n",
    "            \\beta &= P(\\bar{X} < 1005 ; H_a) \\\\\n",
    "                &= P\\left(\\frac{\\bar{X}-1008.2}{\\sigma/\\sqrt{n}} < \\frac{1005-1008.2}{\\sigma/\\sqrt{n}}; H_a\\right). \n",
    "        \\end{aligned}\n",
    "        \\nonumber\n",
    "    \\end{align}\n",
    "$$"
   ]
  },
  {
   "cell_type": "markdown",
   "metadata": {},
   "source": [
    "### Assumptions"
   ]
  },
  {
   "cell_type": "markdown",
   "metadata": {},
   "source": [
    "1. Assumption of normally distributed mean. p-values/t-tests rely on the normal distribution assumption.\n",
    "2. Unknown mean and variance.\n",
    "3. Inference is dependent on choice of $\\alpha$.\n",
    "4. Use of sample standard deviation as an unbiased estimator.\n",
    "5. Here, we used a simple null hypothesis.\n",
    "6. We used a composite null hypothesis.\n",
    "7. We used a one-sided test, but can have two-sided as well."
   ]
  },
  {
   "cell_type": "code",
   "execution_count": null,
   "metadata": {},
   "outputs": [],
   "source": []
  }
 ],
 "metadata": {
  "kernelspec": {
   "display_name": "Python 3",
   "language": "python",
   "name": "python3"
  },
  "language_info": {
   "codemirror_mode": {
    "name": "ipython",
    "version": 3
   },
   "file_extension": ".py",
   "mimetype": "text/x-python",
   "name": "python",
   "nbconvert_exporter": "python",
   "pygments_lexer": "ipython3",
   "version": "3.6.4"
  }
 },
 "nbformat": 4,
 "nbformat_minor": 2
}
